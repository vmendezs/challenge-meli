{
 "cells": [
  {
   "cell_type": "markdown",
   "id": "c77e9b8d",
   "metadata": {},
   "source": [
    "# 2. ¿Cuán rápido puedes ordenar estos productos?"
   ]
  },
  {
   "cell_type": "markdown",
   "id": "040cb1d7",
   "metadata": {},
   "source": [
    "## Descripción\n",
    "La seccion de ofertas https://www.mercadolibre.com.ar/ofertas#nav-header es una sección que agrupa las mejores ofertas de MELI, y a grandes rasgos es un listado de productos en oferta ordenados por un score de ML y distintas reglas de negocio. Anexado al desafío, se encuentra un archivo “ordenamiento.csv” el cual tiene un listado de productos, con su score y categorías para este desafío.\n",
    "El score determina cuán bueno es un item_id, siendo 1 el mejor valor posible.\n",
    "El problema es que este ordenamiento debe reflejar variedad de productos y categorías permitiendo el discovery de distintos tipos de productos por lo cual tenemos en producción reglas como las siguientes:\n",
    "1. El “domain_id” no se puede repetir en 4 posiciones consecutivas.\n",
    "2. El “vertical” no se puede repetir en 1 posición consecutiva.\n",
    "3. De existir el id 641416750 en el listado debe estar en la posición 3 siendo esta regla más fuerte que las demás.\n",
    "4. De existir el id 22351223 en el listado debe estar en la posición 6 siendo esta regla más fuerte que las demás.\n",
    "5. Las posiciones 9,10,11 deben tener sí o sí items de la categoría “HOME&DECOR” siendo esta regla más fuerte que la 1 y 2.\n",
    "6. Cumpliendo estas condiciones, el ordenamiento debe respetar un ordenamiento de mayor score a menor.\n",
    "El desafío es diseñar un algoritmo que, dado el dataset y estas restricciones, devuelva el listado final ordenado de ítems. El algoritmo debe estar diseñado para escalar eficientemente con el número de ítems, y contemplar los casos en que no se pueden cumplir las restricciones. **¡El tiempo de ejecución es el factor clave!**\n",
    "\n",
    "## Entregable\n",
    "Notebook con el algoritmo para generar el listado ordenado y su tiempo de ejecución."
   ]
  },
  {
   "cell_type": "markdown",
   "id": "72fc7355",
   "metadata": {},
   "source": [
    "## Desarrollo del código\n",
    "\n",
    "### 1. Importe de librerias necesarias para la transformación del dataset\n",
    "- **pandas** para el manejo del dataset como dataframe.\n",
    "- **numpy** para cálculos numéricos y operaciones con matrices y arreglos.\n",
    "- **time** para contabilizar el tiempo de ejecución del código"
   ]
  },
  {
   "cell_type": "code",
   "execution_count": 1,
   "id": "683f4b20",
   "metadata": {},
   "outputs": [],
   "source": [
    "import pandas as pd\n",
    "import numpy as np\n",
    "import time"
   ]
  },
  {
   "cell_type": "markdown",
   "id": "aa150f1d",
   "metadata": {},
   "source": [
    "### 2. Inicio del tiempo de ejecución del código\n",
    "Con la función de time de la librería time empieza un contador a correr hasta que llegue al comando que le dice que pare"
   ]
  },
  {
   "cell_type": "code",
   "execution_count": 2,
   "id": "3547ada8",
   "metadata": {},
   "outputs": [],
   "source": [
    "# Registra el tiempo de inicio\n",
    "inicio = time.time()"
   ]
  },
  {
   "cell_type": "markdown",
   "id": "e3b2b0c9",
   "metadata": {},
   "source": [
    "### 3. Lectura del dataset de ordenamiento"
   ]
  },
  {
   "cell_type": "code",
   "execution_count": 3,
   "id": "65609ebd",
   "metadata": {},
   "outputs": [],
   "source": [
    "df = pd.read_csv('ordenamiento.csv')"
   ]
  },
  {
   "cell_type": "markdown",
   "id": "81449094",
   "metadata": {},
   "source": [
    "### 4. Creación de la regla 3 y 4\n",
    "Por lo visto, algunas reglas tiene prioridad sobre otras y este el es caso de las reglas 3 y 4. Estas dicen que en caso de existir cierto numero de item, deben ir en posiciones específicas y que estas reglas en especial tienen prioridad sobre las demás. En este caso la función **move_record_to_position()** tiene como objetivo verificar si el item existe y de ser así moverlo a la posición indicada; de tal forma los valores de entrada corresponde al dataframe, el id del item a mover y la posición deseada en la cual colocar dicho item. La función devuelve el mismo dataframe pero ordenado con esta regla."
   ]
  },
  {
   "cell_type": "code",
   "execution_count": 4,
   "id": "1194ffb2",
   "metadata": {},
   "outputs": [],
   "source": [
    "def move_record_to_position(df, id_item_a_mover, posicion_deseada):\n",
    "    # Verificar si el 'id_item_a_mover' existe en el DataFrame\n",
    "    if id_item_a_mover not in df['item_id'].values:\n",
    "        #print(f\"El id {id_item_a_mover} no existe en el DataFrame.\")\n",
    "        return df\n",
    "    \n",
    "    # Obtener el registro a mover y su índice actual\n",
    "    idx = df[df['item_id'] == id_item_a_mover].index.item()\n",
    "    registro_a_mover = df.iloc[idx]\n",
    "\n",
    "    # Eliminar el registro del DataFrame original\n",
    "    df = df.drop(idx)\n",
    "\n",
    "    # Insertar el registro en la posición deseada dentro del DataFrame\n",
    "    df = pd.DataFrame(np.insert(df.values, posicion_deseada, registro_a_mover.values, axis=0), columns=df.columns)\n",
    "\n",
    "    return df"
   ]
  },
  {
   "cell_type": "markdown",
   "id": "8a3623c9",
   "metadata": {},
   "source": [
    "### 5. Creación de la regla 5\n",
    "En el caso de esta regla, la función **replace_records_in_position()** cumple con exactamente la descripción de la regla. En ese sentido, toma la columna a filtrar (en este caso *category*) con el valor de la categoría requerida (en este caso *“HOME&DECO”*), ordena y obtiene el top 3 de esa categoría para ser reemplazado directamente en las posiciones 9,10,11 del dataframe respetando el orden con el que ya venía."
   ]
  },
  {
   "cell_type": "code",
   "execution_count": 5,
   "id": "4e2d78ba",
   "metadata": {},
   "outputs": [],
   "source": [
    "def replace_records_in_position(df, column_name, value_to_filter):\n",
    "    # Filtrar el DataFrame por el valor especificado en la columna\n",
    "    filtered_df = df[df[column_name] == value_to_filter].copy()\n",
    "\n",
    "    # Convertir la columna 'score' a tipo de datos numérico (si no lo es ya)\n",
    "    filtered_df['score'] = pd.to_numeric(filtered_df['score'])\n",
    "\n",
    "    # Obtener los tres registros con la puntuación más alta\n",
    "    top_records = filtered_df.nlargest(3, 'score')\n",
    "\n",
    "    # Encontrar las posiciones de los registros del top 3 en el DataFrame original\n",
    "    top_positions = df[df['item_id'].isin(top_records['item_id'])].index\n",
    "\n",
    "    # Reemplazar los registros en las posiciones 9, 10 y 11 del DataFrame original\n",
    "    for i, top_record in enumerate(top_records.values):\n",
    "        source_index = top_positions[i]\n",
    "        dest_index = 9 + i\n",
    "\n",
    "        if dest_index >= source_index:\n",
    "            dest_index += 1\n",
    "\n",
    "        # Desplazar las filas hacia abajo desde dest_index hasta source_index\n",
    "        df.iloc[dest_index+1:source_index+1] = df.iloc[dest_index:source_index].values\n",
    "\n",
    "        # Reemplazar el registro en dest_index con el registro del top 3\n",
    "        df.iloc[dest_index] = top_record\n",
    "\n",
    "    return df"
   ]
  },
  {
   "cell_type": "markdown",
   "id": "d33ba072",
   "metadata": {},
   "source": [
    "### 6. Creación de la regla 1 y 2\n",
    "En el caso de la regla 1 y 2, se deben tener en cuenta las veces en las que se repite un valor en el ordenamiento y al ser reglas tan similares, cree la función **sort_dataframe_with_restriction()** que tiene en cuenta ambas restricciones de manera que:\n",
    "- df: El dataframe que se necesita ordenar\n",
    "- field_restriction1: en este caso funciona para revisar el campo domain\n",
    "- n_times1: en este caso funciona para revisar las veces que no se puede repetir el campo 1 (en este caso domain)\n",
    "- field_restriction2: en este caso funciona para revisar el campo vertical\n",
    "- n_times2: en este caso funciona para revisar las veces que no se puede repetir el campo 2 (en este caso vertical)"
   ]
  },
  {
   "cell_type": "code",
   "execution_count": 6,
   "id": "30bc94b8",
   "metadata": {},
   "outputs": [],
   "source": [
    "# Función para ordenar el DataFrame con las restricciones de domain_id y otro campo adicional\n",
    "def sort_dataframe_with_restriction(df, field_restriction1, n_times1, field_restriction2, n_times2):\n",
    "    # Copiar el DataFrame para no modificar el original\n",
    "    df_sorted = df.copy()\n",
    "\n",
    "    # Ordenar por la columna \"score\" de manera descendente\n",
    "    df_sorted = df_sorted.sort_values(by='score', ascending=False)\n",
    "\n",
    "    # Verificar ambas restricciones al mismo tiempo\n",
    "    consecutive_repeats1, consecutive_repeats2 = 0, 0\n",
    "    prev_field_value1, prev_field_value2 = None, None\n",
    "    for i, row in df_sorted.iterrows():\n",
    "        if row[field_restriction1] == prev_field_value1:\n",
    "            consecutive_repeats1 += 1\n",
    "            if consecutive_repeats1 < n_times1:\n",
    "                # Si se excede la restricción, mover el registro a una posición anterior\n",
    "                if i - 1 >= 0:\n",
    "                    df_sorted = df_sorted.drop(i)\n",
    "                    df_sorted = pd.concat([df_sorted.iloc[:i-1], row.to_frame().T, df_sorted.iloc[i-1:]])\n",
    "        else:\n",
    "            consecutive_repeats1 = 0\n",
    "        prev_field_value1 = row[field_restriction1]\n",
    "\n",
    "        if row[field_restriction2] == prev_field_value2:\n",
    "            consecutive_repeats2 += 1\n",
    "            if consecutive_repeats2 < n_times2:\n",
    "                # Si se excede la restricción, mover el registro a una posición anterior\n",
    "                if i - 1 >= 0:\n",
    "                    df_sorted = df_sorted.drop(i)\n",
    "                    df_sorted = pd.concat([df_sorted.iloc[:i-1], row.to_frame().T, df_sorted.iloc[i-1:]])\n",
    "        else:\n",
    "            consecutive_repeats2 = 0\n",
    "        prev_field_value2 = row[field_restriction2]\n",
    "\n",
    "    # Reiniciar el índice del DataFrame después de las modificaciones\n",
    "    df_sorted = df_sorted.reset_index(drop=True)\n",
    "\n",
    "    return df_sorted"
   ]
  },
  {
   "cell_type": "markdown",
   "id": "c8f2f6b1",
   "metadata": {},
   "source": [
    "### 7. Ordenar el DataFrame con las restricciones\n",
    "Aplico las funciones en el orden requerido teniendo en cuenta que:\n",
    "1. La función sort_dataframe_with_restriction() ordena inmediatamente el dataframe con las reglas 1 y 2.\n",
    "2. Aplico la función move_record_to_position() ya que deseo mantener esos id en dichas posiciones respetando el ordenamiento previo, tal como dice la regla 3 y 4.\n",
    "3. Por último dejo la función replace_records_in_position() porque deseo mover el ordenamiento a partir de la posición 9 con las reglas anteriores con el top 3 de la columna y el campo requerido, siguiendo con la regla 5.\n",
    "De esta forma garantizo la prioridad de las reglas en el siguiente orden:\n",
    "- 3 -> 4 -> 5 -> 1 -> 2 -> 6"
   ]
  },
  {
   "cell_type": "code",
   "execution_count": 7,
   "id": "ae76bbcd",
   "metadata": {},
   "outputs": [],
   "source": [
    "df_sorted_with_restriction = sort_dataframe_with_restriction(df, 'domain', 4, 'vertical', 1)\n",
    "df_sorted_with_restriction = move_record_to_position(df_sorted_with_restriction, 641416750, 3)\n",
    "df_sorted_with_restriction = move_record_to_position(df_sorted_with_restriction, 22351223, 6)\n",
    "df_resultado = replace_records_in_position(df_sorted_with_restriction, 'category', 'HOME&DECOR')"
   ]
  },
  {
   "cell_type": "markdown",
   "id": "ae4887b3",
   "metadata": {},
   "source": [
    "### 8. Termina el cálculo de tiempo\n",
    "Envía stop al timer"
   ]
  },
  {
   "cell_type": "code",
   "execution_count": 8,
   "id": "f8c07754",
   "metadata": {},
   "outputs": [],
   "source": [
    "# Registra el tiempo de finalización\n",
    "fin = time.time()"
   ]
  },
  {
   "cell_type": "markdown",
   "id": "ae81cd87",
   "metadata": {},
   "source": [
    "### 9. Muestro el tiempo final de ejecución"
   ]
  },
  {
   "cell_type": "code",
   "execution_count": 9,
   "id": "23dee71f",
   "metadata": {},
   "outputs": [
    {
     "name": "stdout",
     "output_type": "stream",
     "text": [
      "Tiempo total de ejecución: 0.4264833927154541 segundos\n"
     ]
    }
   ],
   "source": [
    "# Calcula el tiempo total de ejecución\n",
    "tiempo_total = fin - inicio\n",
    "print(\"Tiempo total de ejecución:\", tiempo_total, \"segundos\")"
   ]
  },
  {
   "cell_type": "markdown",
   "id": "089a3d87",
   "metadata": {},
   "source": [
    "### 10. Guardo el dataframe ordenado"
   ]
  },
  {
   "cell_type": "code",
   "execution_count": 10,
   "id": "761a8912",
   "metadata": {},
   "outputs": [],
   "source": [
    "df_resultado.to_csv('df_resultado.csv', index=False)"
   ]
  }
 ],
 "metadata": {
  "kernelspec": {
   "display_name": "Python 3 (ipykernel)",
   "language": "python",
   "name": "python3"
  },
  "language_info": {
   "codemirror_mode": {
    "name": "ipython",
    "version": 3
   },
   "file_extension": ".py",
   "mimetype": "text/x-python",
   "name": "python",
   "nbconvert_exporter": "python",
   "pygments_lexer": "ipython3",
   "version": "3.11.3"
  }
 },
 "nbformat": 4,
 "nbformat_minor": 5
}
